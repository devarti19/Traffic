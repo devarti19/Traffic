{
 "cells": [
  {
   "cell_type": "code",
   "execution_count": 1,
   "metadata": {},
   "outputs": [],
   "source": [
    "import sqlite3\n",
    "import os\n",
    "import hashlib\n",
    "import binascii"
   ]
  },
  {
   "cell_type": "code",
   "execution_count": 3,
   "metadata": {},
   "outputs": [],
   "source": [
    "# access_database requires the name of a sqlite3 database file and the query.\n",
    "# It does not return the result of the query.\n",
    "def access_database(dbfile, query):\n",
    "    connect = sqlite3.connect(dbfile)\n",
    "    cursor = connect.cursor()\n",
    "    cursor.execute(query)\n",
    "    connect.commit()\n",
    "    connect.close()\n",
    "    \n",
    "# access_database requires the name of a sqlite3 database file and the query.\n",
    "# It returns the result of the query\n",
    "def access_database_with_result(dbfile, query):\n",
    "    connect = sqlite3.connect(dbfile)\n",
    "    cursor = connect.cursor()\n",
    "    rows = cursor.execute(query).fetchall()\n",
    "    connect.commit()\n",
    "    connect.close()\n",
    "    return rows"
   ]
  },
  {
   "cell_type": "code",
   "execution_count": 7,
   "metadata": {},
   "outputs": [],
   "source": [
    "def hash_password(password):\n",
    "    \"\"\"Hash a password for storing.\"\"\"\n",
    "    salt = hashlib.sha256(os.urandom(60)).hexdigest().encode('ascii')\n",
    "    pwdhash = hashlib.pbkdf2_hmac('sha512', password.encode('utf-8'), salt, 100000)\n",
    "    pwdhash = binascii.hexlify(pwdhash)\n",
    "    return (salt + pwdhash).decode('ascii')"
   ]
  },
  {
   "cell_type": "code",
   "execution_count": 8,
   "metadata": {},
   "outputs": [],
   "source": [
    "#Pre-poluate the credential table with 10 username and hashed password\n",
    "def user_entry(dbfile):\n",
    "    for i in range(1,11):\n",
    "        user= 'test'+str(i)\n",
    "        password = 'password'+str(i)\n",
    "        hash_p = hash_password(password)\n",
    "        access_database(dbfile,'INSERT INTO credential VALUES (\"%s\", \"%s\")'%(user,hash_p))"
   ]
  },
  {
   "cell_type": "code",
   "execution_count": 9,
   "metadata": {},
   "outputs": [],
   "source": [
    "# Set up the tables\n",
    "\n",
    "def setup_assessment_tables(dbfile):\n",
    "    # Get rid of any existing data\n",
    "    access_database(dbfile, \"DROP TABLE IF EXISTS credential\")\n",
    "    access_database(dbfile, \"DROP TABLE IF EXISTS login\")\n",
    "    access_database(dbfile, \"DROP TABLE IF EXISTS session\")\n",
    "    access_database(dbfile, \"DROP TABLE IF EXISTS vehicle\")\n",
    "    access_database(dbfile, \"DROP TABLE IF EXISTS v_type\")\n",
    "    \n",
    "    \n",
    "    # Freshly setup tables\n",
    "    access_database(dbfile, \"CREATE TABLE credential (username TEXT, password TEXT)\")\n",
    "    access_database(dbfile, \"CREATE TABLE login (username TEXT, magic TEXT,starttime DATETIME, endtime DATETIME)\")\n",
    "    access_database(dbfile, \"CREATE TABLE session (username TEXT, magic TEXT)\")\n",
    "    access_database(dbfile, \"CREATE TABLE vehicle (username TEXT,magic TEXT,Mode TEXT, Location TEXT, occupancy INTEGER,Type TEXT, time DATETIME)\")\n",
    "    access_database(dbfile, \"CREATE TABLE v_type (Type TEXT)\")\n",
    "    \n",
    "    # Populate the tables with some initial data\n",
    "    user_entry(dbfile)\n",
    "    access_database(dbfile, \"INSERT INTO v_type VALUES ('car'),('taxi'),('bus'),('motorbike'),('bicycle'),('van'),('truck'),('other')\")"
   ]
  },
  {
   "cell_type": "code",
   "execution_count": 10,
   "metadata": {},
   "outputs": [],
   "source": [
    "setup_assessment_tables(\"initial_db.db\") # for server.py"
   ]
  },
  {
   "cell_type": "code",
   "execution_count": 11,
   "metadata": {},
   "outputs": [],
   "source": [
    "setup_assessment_tables(\"offline_db.db\")  #for task8 and 9"
   ]
  },
  {
   "cell_type": "markdown",
   "metadata": {},
   "source": [
    "#### Few example entries "
   ]
  },
  {
   "cell_type": "code",
   "execution_count": 8,
   "metadata": {},
   "outputs": [
    {
     "data": {
      "text/plain": [
       "[('test1', '6465206688', '2020-12-03 21:37', '2020-12-03 21:38'),\n",
       " ('test', '1234567890', '2020-12-03 21:38', '2020-12-03 21:38'),\n",
       " ('test', '1234567890', '2020-12-03 21:38', '2020-12-03 21:38'),\n",
       " ('test5', '34851015595', '2020-12-03 21:39', '2020-12-03 21:39')]"
      ]
     },
     "execution_count": 8,
     "metadata": {},
     "output_type": "execute_result"
    }
   ],
   "source": [
    "access_database_with_result(\"initial_db.db\", \"SELECT * from login\")"
   ]
  },
  {
   "cell_type": "code",
   "execution_count": 9,
   "metadata": {},
   "outputs": [
    {
     "data": {
      "text/plain": [
       "[('test1', '6465206688', 'add', 'london', 1, 'car', '2020-12-03 21:37'),\n",
       " ('test1', '6465206688', 'add', 'bath', 3, 'taxi', '2020-12-03 21:37'),\n",
       " ('test1', '6465206688', 'undo', 'bath', 2, 'truck', '2020-12-03 21:37'),\n",
       " ('test1', '6465206688', 'add', 'bath', 1, 'bicycle', '2020-12-03 21:37'),\n",
       " ('test5', '34851015595', 'add', 'bristol', 3, 'van', '2020-12-03 21:39')]"
      ]
     },
     "execution_count": 9,
     "metadata": {},
     "output_type": "execute_result"
    }
   ],
   "source": [
    "access_database_with_result(\"initial_db.db\", \"SELECT * from vehicle\")"
   ]
  },
  {
   "cell_type": "code",
   "execution_count": 13,
   "metadata": {},
   "outputs": [
    {
     "data": {
      "text/plain": [
       "[('test1', None, 'add', 'main street', 1, 'car', '2020-06-01 09:05'),\n",
       " ('test1', None, 'add', 'ring road', 4, 'bus', '2020-06-01 10:10'),\n",
       " ('test1', None, 'add', 'main street', 2, 'car', '2020-06-01 11:11'),\n",
       " ('test1', None, 'undo', 'main street', 1, 'car', '2020-06-01 12:11'),\n",
       " ('test1', None, 'add', 'main street', 1, 'car', '2020-06-02 15:10'),\n",
       " ('test1', None, 'add', 'main street', 2, 'taxi', '2020-06-02 15:12'),\n",
       " ('test1', None, 'add', 'main street', 4, 'taxi', '2020-06-02 15:13'),\n",
       " ('test1', None, 'add', 'ring road', 3, 'car', '2020-06-02 15:12'),\n",
       " ('test1', None, 'undo', 'main street', 2, 'taxi', '2020-06-02 15:15'),\n",
       " ('test1', None, 'add', 'busy road', 2, 'bus', '2020-06-03 11:34'),\n",
       " ('test1', None, 'add', 'busy road', 3, 'bus', '2020-06-03 11:35'),\n",
       " ('test1', None, 'add', 'university avenue', 2, 'bicycle', '2020-06-03 11:36'),\n",
       " ('test1', None, 'add', 'busy road', 1, 'bus', '2020-06-03 11:38'),\n",
       " ('test1', None, 'add', 'busy road', 4, 'bus', '2020-06-03 11:41'),\n",
       " ('test1', None, 'add', 'busy road', 4, 'bus', '2020-06-03 11:42'),\n",
       " ('test1', None, 'add', 'busy road', 4, 'bus', '2020-06-03 11:43'),\n",
       " ('test1', None, 'add', 'busy road', 3, 'bus', '2020-06-03 11:43'),\n",
       " ('test1', None, 'undo', 'busy road', 1, 'bus', '2020-06-03 11:46'),\n",
       " ('test1', None, 'add', 'ring road', 2, 'car', '2020-06-03 10:21'),\n",
       " ('test1', None, 'add', 'ring road', 2, 'car', '2020-06-03 11:41'),\n",
       " ('test1', None, 'add', 'busy road', 1, 'motorbike', '2020-06-03 14:21'),\n",
       " ('test1', None, 'add', 'busy road', 1, 'motorbike', '2020-06-04 14:43'),\n",
       " ('test1', None, 'add', 'university avenue', 1, 'bicycle', '2020-06-10 18:04'),\n",
       " ('test1', None, 'add', 'university avenue', 1, 'bicycle', '2020-06-10 18:05'),\n",
       " ('test1', None, 'add', 'university avenue', 1, 'bicycle', '2020-06-10 18:06'),\n",
       " ('test1', None, 'add', 'university avenue', 1, 'bicycle', '2020-06-10 18:07'),\n",
       " ('test1',\n",
       "  None,\n",
       "  'undo',\n",
       "  'university avenue',\n",
       "  1,\n",
       "  'bicycle',\n",
       "  '2020-06-10 18:09')]"
      ]
     },
     "execution_count": 13,
     "metadata": {},
     "output_type": "execute_result"
    }
   ],
   "source": [
    "access_database_with_result(\"offline_db.db\", \"SELECT * from vehicle\")"
   ]
  },
  {
   "cell_type": "code",
   "execution_count": 14,
   "metadata": {},
   "outputs": [
    {
     "data": {
      "text/plain": [
       "[('test8', None, '2020-05-10 09:00', '2020-05-10 10:00'),\n",
       " ('test7', None, '2020-06-11 09:00', '2020-06-11 10:00'),\n",
       " ('test6', None, '2020-06-19 09:00', '2020-06-19 10:00'),\n",
       " ('test6', None, '2020-06-19 11:00', '2020-06-19 12:00'),\n",
       " ('test6', None, '2020-06-19 13:00', '2020-06-19 14:00'),\n",
       " ('test6', None, '2020-06-19 15:00', '2020-06-19 16:01'),\n",
       " ('test5', None, '2020-06-20 12:47', '2020-06-20 13:47'),\n",
       " ('test5', None, '2020-06-21 09:23', '2020-06-21 11:23'),\n",
       " ('test5', None, '2020-07-09 09:00', '2020-07-09 11:12'),\n",
       " ('test7', None, '2020-07-10 09:00', '2020-07-10 10:01'),\n",
       " ('test4', None, '2020-07-11 19:10', '2020-07-11 21:11'),\n",
       " ('test4', None, '2020-07-14 15:24', '2020-07-14 16:25'),\n",
       " ('test5', None, '2020-07-14 19:10', '2020-07-14 21:41'),\n",
       " ('test3', None, '2020-07-04 08:31', '2020-07-04 13:44'),\n",
       " ('test2', None, '2020-07-12 11:30', '2020-07-12 17:32'),\n",
       " ('test1', None, '2020-07-14 12:00', '2020-07-14 16:25'),\n",
       " ('test10', None, '2020-07-16 06:00', '2020-07-16 13:00')]"
      ]
     },
     "execution_count": 14,
     "metadata": {},
     "output_type": "execute_result"
    }
   ],
   "source": [
    "access_database_with_result(\"offline_db.db\", \"SELECT * from login\")"
   ]
  },
  {
   "cell_type": "code",
   "execution_count": null,
   "metadata": {},
   "outputs": [],
   "source": []
  }
 ],
 "metadata": {
  "kernelspec": {
   "display_name": "Python 3",
   "language": "python",
   "name": "python3"
  },
  "language_info": {
   "codemirror_mode": {
    "name": "ipython",
    "version": 3
   },
   "file_extension": ".py",
   "mimetype": "text/x-python",
   "name": "python",
   "nbconvert_exporter": "python",
   "pygments_lexer": "ipython3",
   "version": "3.7.3"
  }
 },
 "nbformat": 4,
 "nbformat_minor": 2
}
